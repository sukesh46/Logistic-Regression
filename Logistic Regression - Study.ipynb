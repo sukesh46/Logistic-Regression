{
 "cells": [
  {
   "cell_type": "code",
   "execution_count": 548,
   "id": "361a6638",
   "metadata": {},
   "outputs": [],
   "source": [
    "import pandas as pd\n",
    "import numpy as np\n",
    "import matplotlib.pyplot as plt"
   ]
  },
  {
   "cell_type": "code",
   "execution_count": 549,
   "id": "a75f3833",
   "metadata": {},
   "outputs": [],
   "source": [
    "### We are using a medical dataset containing patient's medical information. The dependent variable here is called 'stroke'"
   ]
  },
  {
   "cell_type": "code",
   "execution_count": 550,
   "id": "531593c1",
   "metadata": {},
   "outputs": [],
   "source": [
    "f = pd.read_csv ('train.csv')"
   ]
  },
  {
   "cell_type": "code",
   "execution_count": 551,
   "id": "8e701c60",
   "metadata": {},
   "outputs": [
    {
     "data": {
      "text/html": [
       "<div>\n",
       "<style scoped>\n",
       "    .dataframe tbody tr th:only-of-type {\n",
       "        vertical-align: middle;\n",
       "    }\n",
       "\n",
       "    .dataframe tbody tr th {\n",
       "        vertical-align: top;\n",
       "    }\n",
       "\n",
       "    .dataframe thead th {\n",
       "        text-align: right;\n",
       "    }\n",
       "</style>\n",
       "<table border=\"1\" class=\"dataframe\">\n",
       "  <thead>\n",
       "    <tr style=\"text-align: right;\">\n",
       "      <th></th>\n",
       "      <th>id</th>\n",
       "      <th>gender</th>\n",
       "      <th>age</th>\n",
       "      <th>hypertension</th>\n",
       "      <th>heart_disease</th>\n",
       "      <th>ever_married</th>\n",
       "      <th>work_type</th>\n",
       "      <th>Residence_type</th>\n",
       "      <th>avg_glucose_level</th>\n",
       "      <th>bmi</th>\n",
       "      <th>smoking_status</th>\n",
       "      <th>stroke</th>\n",
       "    </tr>\n",
       "  </thead>\n",
       "  <tbody>\n",
       "    <tr>\n",
       "      <th>0</th>\n",
       "      <td>0</td>\n",
       "      <td>Male</td>\n",
       "      <td>28.0</td>\n",
       "      <td>0</td>\n",
       "      <td>0</td>\n",
       "      <td>Yes</td>\n",
       "      <td>Private</td>\n",
       "      <td>Urban</td>\n",
       "      <td>79.53</td>\n",
       "      <td>31.1</td>\n",
       "      <td>never smoked</td>\n",
       "      <td>0</td>\n",
       "    </tr>\n",
       "    <tr>\n",
       "      <th>1</th>\n",
       "      <td>1</td>\n",
       "      <td>Male</td>\n",
       "      <td>33.0</td>\n",
       "      <td>0</td>\n",
       "      <td>0</td>\n",
       "      <td>Yes</td>\n",
       "      <td>Private</td>\n",
       "      <td>Rural</td>\n",
       "      <td>78.44</td>\n",
       "      <td>23.9</td>\n",
       "      <td>formerly smoked</td>\n",
       "      <td>0</td>\n",
       "    </tr>\n",
       "    <tr>\n",
       "      <th>2</th>\n",
       "      <td>2</td>\n",
       "      <td>Female</td>\n",
       "      <td>42.0</td>\n",
       "      <td>0</td>\n",
       "      <td>0</td>\n",
       "      <td>Yes</td>\n",
       "      <td>Private</td>\n",
       "      <td>Rural</td>\n",
       "      <td>103.00</td>\n",
       "      <td>40.3</td>\n",
       "      <td>Unknown</td>\n",
       "      <td>0</td>\n",
       "    </tr>\n",
       "  </tbody>\n",
       "</table>\n",
       "</div>"
      ],
      "text/plain": [
       "   id  gender   age  hypertension  heart_disease ever_married work_type  \\\n",
       "0   0    Male  28.0             0              0          Yes   Private   \n",
       "1   1    Male  33.0             0              0          Yes   Private   \n",
       "2   2  Female  42.0             0              0          Yes   Private   \n",
       "\n",
       "  Residence_type  avg_glucose_level   bmi   smoking_status  stroke  \n",
       "0          Urban              79.53  31.1     never smoked       0  \n",
       "1          Rural              78.44  23.9  formerly smoked       0  \n",
       "2          Rural             103.00  40.3          Unknown       0  "
      ]
     },
     "execution_count": 551,
     "metadata": {},
     "output_type": "execute_result"
    }
   ],
   "source": [
    "f.head(3)"
   ]
  },
  {
   "cell_type": "code",
   "execution_count": 552,
   "id": "64f61fcd",
   "metadata": {},
   "outputs": [],
   "source": [
    "## dropping the first column 'id' since it evidently is inconsequential to our classification"
   ]
  },
  {
   "cell_type": "code",
   "execution_count": 553,
   "id": "3f1fb35e",
   "metadata": {},
   "outputs": [],
   "source": [
    "f.drop ('id', axis = 'columns', inplace = True)"
   ]
  },
  {
   "cell_type": "code",
   "execution_count": 554,
   "id": "820a99a9",
   "metadata": {},
   "outputs": [
    {
     "data": {
      "text/plain": [
       "Index(['gender', 'age', 'hypertension', 'heart_disease', 'ever_married',\n",
       "       'work_type', 'Residence_type', 'avg_glucose_level', 'bmi',\n",
       "       'smoking_status', 'stroke'],\n",
       "      dtype='object')"
      ]
     },
     "execution_count": 554,
     "metadata": {},
     "output_type": "execute_result"
    }
   ],
   "source": [
    "f.columns"
   ]
  },
  {
   "cell_type": "code",
   "execution_count": 555,
   "id": "6de8578e",
   "metadata": {},
   "outputs": [],
   "source": [
    "from imblearn.over_sampling import SMOTE"
   ]
  },
  {
   "cell_type": "code",
   "execution_count": 556,
   "id": "27fb1303",
   "metadata": {},
   "outputs": [
    {
     "data": {
      "text/plain": [
       "0    14672\n",
       "1      632\n",
       "Name: stroke, dtype: int64"
      ]
     },
     "execution_count": 556,
     "metadata": {},
     "output_type": "execute_result"
    }
   ],
   "source": [
    "f.stroke.value_counts()"
   ]
  },
  {
   "cell_type": "code",
   "execution_count": 621,
   "id": "0c54f16c",
   "metadata": {},
   "outputs": [],
   "source": [
    "### class imbalance would cause the model to be biased towards the majority class, which we don't condone"
   ]
  },
  {
   "cell_type": "markdown",
   "id": "c8b0845f",
   "metadata": {},
   "source": [
    "# Exploratory Data Analysis"
   ]
  },
  {
   "cell_type": "code",
   "execution_count": 557,
   "id": "c3a1bfbf",
   "metadata": {},
   "outputs": [
    {
     "data": {
      "text/plain": [
       "(15304, 11)"
      ]
     },
     "execution_count": 557,
     "metadata": {},
     "output_type": "execute_result"
    }
   ],
   "source": [
    "f.shape"
   ]
  },
  {
   "cell_type": "code",
   "execution_count": 558,
   "id": "3731e74f",
   "metadata": {},
   "outputs": [
    {
     "data": {
      "text/plain": [
       "Female    9446\n",
       "Male      5857\n",
       "Other        1\n",
       "Name: gender, dtype: int64"
      ]
     },
     "execution_count": 558,
     "metadata": {},
     "output_type": "execute_result"
    }
   ],
   "source": [
    "f.gender.value_counts()"
   ]
  },
  {
   "cell_type": "code",
   "execution_count": 559,
   "id": "6701d05f",
   "metadata": {},
   "outputs": [
    {
     "data": {
      "text/plain": [
       "81.92"
      ]
     },
     "execution_count": 559,
     "metadata": {},
     "output_type": "execute_result"
    }
   ],
   "source": [
    "## range of ages\n",
    "f.age.max() - f.age.min()"
   ]
  },
  {
   "cell_type": "code",
   "execution_count": 560,
   "id": "48fb5c24",
   "metadata": {},
   "outputs": [
    {
     "data": {
      "text/plain": [
       "Yes    10385\n",
       "No      4919\n",
       "Name: ever_married, dtype: int64"
      ]
     },
     "execution_count": 560,
     "metadata": {},
     "output_type": "execute_result"
    }
   ],
   "source": [
    "f['ever_married'].value_counts()"
   ]
  },
  {
   "cell_type": "code",
   "execution_count": 561,
   "id": "3b81a10a",
   "metadata": {},
   "outputs": [],
   "source": [
    "## performing a few groupbys and crosstabs to further understand our dataset before proceeding to visualizations"
   ]
  },
  {
   "cell_type": "code",
   "execution_count": 562,
   "id": "21acaef9",
   "metadata": {},
   "outputs": [
    {
     "data": {
      "text/plain": [
       "gender  smoking_status   stroke\n",
       "Female  Unknown          0         2484\n",
       "                         1           65\n",
       "        formerly smoked  0         1263\n",
       "                         1           74\n",
       "        never smoked     0         4101\n",
       "                         1          173\n",
       "        smokes           0         1230\n",
       "                         1           56\n",
       "Male    Unknown          0         1950\n",
       "                         1           43\n",
       "        formerly smoked  0          915\n",
       "                         1           85\n",
       "        never smoked     0         1923\n",
       "                         1           84\n",
       "        smokes           0          805\n",
       "                         1           52\n",
       "Other   Unknown          0            1\n",
       "Name: stroke, dtype: int64"
      ]
     },
     "execution_count": 562,
     "metadata": {},
     "output_type": "execute_result"
    }
   ],
   "source": [
    "f.stroke.groupby([f.gender, f.smoking_status, f.stroke]).count()"
   ]
  },
  {
   "cell_type": "code",
   "execution_count": 563,
   "id": "4e003e42",
   "metadata": {},
   "outputs": [
    {
     "data": {
      "text/html": [
       "<div>\n",
       "<style scoped>\n",
       "    .dataframe tbody tr th:only-of-type {\n",
       "        vertical-align: middle;\n",
       "    }\n",
       "\n",
       "    .dataframe tbody tr th {\n",
       "        vertical-align: top;\n",
       "    }\n",
       "\n",
       "    .dataframe thead th {\n",
       "        text-align: right;\n",
       "    }\n",
       "</style>\n",
       "<table border=\"1\" class=\"dataframe\">\n",
       "  <thead>\n",
       "    <tr style=\"text-align: right;\">\n",
       "      <th></th>\n",
       "      <th>mean</th>\n",
       "      <th>max</th>\n",
       "      <th>min</th>\n",
       "    </tr>\n",
       "    <tr>\n",
       "      <th>smoking_status</th>\n",
       "      <th></th>\n",
       "      <th></th>\n",
       "      <th></th>\n",
       "    </tr>\n",
       "  </thead>\n",
       "  <tbody>\n",
       "    <tr>\n",
       "      <th>Unknown</th>\n",
       "      <td>24.962738</td>\n",
       "      <td>80.1</td>\n",
       "      <td>10.3</td>\n",
       "    </tr>\n",
       "    <tr>\n",
       "      <th>formerly smoked</th>\n",
       "      <td>30.042918</td>\n",
       "      <td>60.9</td>\n",
       "      <td>14.1</td>\n",
       "    </tr>\n",
       "    <tr>\n",
       "      <th>never smoked</th>\n",
       "      <td>29.125181</td>\n",
       "      <td>65.9</td>\n",
       "      <td>14.3</td>\n",
       "    </tr>\n",
       "    <tr>\n",
       "      <th>smokes</th>\n",
       "      <td>29.718059</td>\n",
       "      <td>61.8</td>\n",
       "      <td>15.9</td>\n",
       "    </tr>\n",
       "  </tbody>\n",
       "</table>\n",
       "</div>"
      ],
      "text/plain": [
       "                      mean   max   min\n",
       "smoking_status                        \n",
       "Unknown          24.962738  80.1  10.3\n",
       "formerly smoked  30.042918  60.9  14.1\n",
       "never smoked     29.125181  65.9  14.3\n",
       "smokes           29.718059  61.8  15.9"
      ]
     },
     "execution_count": 563,
     "metadata": {},
     "output_type": "execute_result"
    }
   ],
   "source": [
    "f.bmi.groupby(f.smoking_status).agg(['mean', 'max', 'min'])"
   ]
  },
  {
   "cell_type": "code",
   "execution_count": 564,
   "id": "d3bed3ff",
   "metadata": {},
   "outputs": [
    {
     "data": {
      "text/html": [
       "<div>\n",
       "<style scoped>\n",
       "    .dataframe tbody tr th:only-of-type {\n",
       "        vertical-align: middle;\n",
       "    }\n",
       "\n",
       "    .dataframe tbody tr th {\n",
       "        vertical-align: top;\n",
       "    }\n",
       "\n",
       "    .dataframe thead tr th {\n",
       "        text-align: left;\n",
       "    }\n",
       "\n",
       "    .dataframe thead tr:last-of-type th {\n",
       "        text-align: right;\n",
       "    }\n",
       "</style>\n",
       "<table border=\"1\" class=\"dataframe\">\n",
       "  <thead>\n",
       "    <tr>\n",
       "      <th></th>\n",
       "      <th colspan=\"2\" halign=\"left\">count</th>\n",
       "    </tr>\n",
       "    <tr>\n",
       "      <th>Residence_type</th>\n",
       "      <th>Rural</th>\n",
       "      <th>Urban</th>\n",
       "    </tr>\n",
       "    <tr>\n",
       "      <th>gender</th>\n",
       "      <th></th>\n",
       "      <th></th>\n",
       "    </tr>\n",
       "  </thead>\n",
       "  <tbody>\n",
       "    <tr>\n",
       "      <th>Female</th>\n",
       "      <td>4720.0</td>\n",
       "      <td>4726.0</td>\n",
       "    </tr>\n",
       "    <tr>\n",
       "      <th>Male</th>\n",
       "      <td>2943.0</td>\n",
       "      <td>2914.0</td>\n",
       "    </tr>\n",
       "    <tr>\n",
       "      <th>Other</th>\n",
       "      <td>1.0</td>\n",
       "      <td>NaN</td>\n",
       "    </tr>\n",
       "  </tbody>\n",
       "</table>\n",
       "</div>"
      ],
      "text/plain": [
       "                 count        \n",
       "Residence_type   Rural   Urban\n",
       "gender                        \n",
       "Female          4720.0  4726.0\n",
       "Male            2943.0  2914.0\n",
       "Other              1.0     NaN"
      ]
     },
     "execution_count": 564,
     "metadata": {},
     "output_type": "execute_result"
    }
   ],
   "source": [
    "pd.crosstab (index = f.gender, columns = f.Residence_type, values = f.stroke, aggfunc = ['count'])"
   ]
  },
  {
   "cell_type": "code",
   "execution_count": 565,
   "id": "b2951da8",
   "metadata": {},
   "outputs": [],
   "source": [
    "## let us visualize the data"
   ]
  },
  {
   "cell_type": "code",
   "execution_count": 566,
   "id": "143e4054",
   "metadata": {},
   "outputs": [
    {
     "data": {
      "text/html": [
       "<div>\n",
       "<style scoped>\n",
       "    .dataframe tbody tr th:only-of-type {\n",
       "        vertical-align: middle;\n",
       "    }\n",
       "\n",
       "    .dataframe tbody tr th {\n",
       "        vertical-align: top;\n",
       "    }\n",
       "\n",
       "    .dataframe thead th {\n",
       "        text-align: right;\n",
       "    }\n",
       "</style>\n",
       "<table border=\"1\" class=\"dataframe\">\n",
       "  <thead>\n",
       "    <tr style=\"text-align: right;\">\n",
       "      <th></th>\n",
       "      <th>gender</th>\n",
       "      <th>age</th>\n",
       "      <th>hypertension</th>\n",
       "      <th>heart_disease</th>\n",
       "      <th>ever_married</th>\n",
       "      <th>work_type</th>\n",
       "      <th>Residence_type</th>\n",
       "      <th>avg_glucose_level</th>\n",
       "      <th>bmi</th>\n",
       "      <th>smoking_status</th>\n",
       "      <th>stroke</th>\n",
       "    </tr>\n",
       "  </thead>\n",
       "  <tbody>\n",
       "    <tr>\n",
       "      <th>0</th>\n",
       "      <td>Male</td>\n",
       "      <td>28.0</td>\n",
       "      <td>0</td>\n",
       "      <td>0</td>\n",
       "      <td>Yes</td>\n",
       "      <td>Private</td>\n",
       "      <td>Urban</td>\n",
       "      <td>79.53</td>\n",
       "      <td>31.1</td>\n",
       "      <td>never smoked</td>\n",
       "      <td>0</td>\n",
       "    </tr>\n",
       "    <tr>\n",
       "      <th>1</th>\n",
       "      <td>Male</td>\n",
       "      <td>33.0</td>\n",
       "      <td>0</td>\n",
       "      <td>0</td>\n",
       "      <td>Yes</td>\n",
       "      <td>Private</td>\n",
       "      <td>Rural</td>\n",
       "      <td>78.44</td>\n",
       "      <td>23.9</td>\n",
       "      <td>formerly smoked</td>\n",
       "      <td>0</td>\n",
       "    </tr>\n",
       "    <tr>\n",
       "      <th>2</th>\n",
       "      <td>Female</td>\n",
       "      <td>42.0</td>\n",
       "      <td>0</td>\n",
       "      <td>0</td>\n",
       "      <td>Yes</td>\n",
       "      <td>Private</td>\n",
       "      <td>Rural</td>\n",
       "      <td>103.00</td>\n",
       "      <td>40.3</td>\n",
       "      <td>Unknown</td>\n",
       "      <td>0</td>\n",
       "    </tr>\n",
       "  </tbody>\n",
       "</table>\n",
       "</div>"
      ],
      "text/plain": [
       "   gender   age  hypertension  heart_disease ever_married work_type  \\\n",
       "0    Male  28.0             0              0          Yes   Private   \n",
       "1    Male  33.0             0              0          Yes   Private   \n",
       "2  Female  42.0             0              0          Yes   Private   \n",
       "\n",
       "  Residence_type  avg_glucose_level   bmi   smoking_status  stroke  \n",
       "0          Urban              79.53  31.1     never smoked       0  \n",
       "1          Rural              78.44  23.9  formerly smoked       0  \n",
       "2          Rural             103.00  40.3          Unknown       0  "
      ]
     },
     "execution_count": 566,
     "metadata": {},
     "output_type": "execute_result"
    }
   ],
   "source": [
    "f.head(3)"
   ]
  },
  {
   "cell_type": "code",
   "execution_count": 567,
   "id": "34e50991",
   "metadata": {},
   "outputs": [],
   "source": [
    "import seaborn as sns"
   ]
  },
  {
   "cell_type": "code",
   "execution_count": 568,
   "id": "cbbd77bb",
   "metadata": {},
   "outputs": [
    {
     "data": {
      "text/plain": [
       "gender                object\n",
       "age                  float64\n",
       "hypertension           int64\n",
       "heart_disease          int64\n",
       "ever_married          object\n",
       "work_type             object\n",
       "Residence_type        object\n",
       "avg_glucose_level    float64\n",
       "bmi                  float64\n",
       "smoking_status        object\n",
       "stroke                 int64\n",
       "dtype: object"
      ]
     },
     "execution_count": 568,
     "metadata": {},
     "output_type": "execute_result"
    }
   ],
   "source": [
    "f.dtypes"
   ]
  },
  {
   "cell_type": "code",
   "execution_count": 569,
   "id": "be9e6154",
   "metadata": {},
   "outputs": [
    {
     "data": {
      "text/plain": [
       "<Axes: >"
      ]
     },
     "execution_count": 569,
     "metadata": {},
     "output_type": "execute_result"
    },
    {
     "data": {
      "image/png": "[encoded data removed]",
      "text/plain": [
       "<Figure size 640x480 with 1 Axes>"
      ]
     },
     "metadata": {},
     "output_type": "display_data"
    }
   ],
   "source": [
    "g = f[['age', 'avg_glucose_level', 'bmi']]\n",
    "sns.boxplot (g)"
   ]
  },
  {
   "cell_type": "code",
   "execution_count": 570,
   "id": "f12bb0c3",
   "metadata": {},
   "outputs": [],
   "source": [
    "## the 'avg_glucose_level' seems to have many outliers"
   ]
  },
  {
   "cell_type": "code",
   "execution_count": 571,
   "id": "ebf2aaf0",
   "metadata": {},
   "outputs": [
    {
     "data": {
      "text/plain": [
       "(0    14543\n",
       " 1      761\n",
       " Name: hypertension, dtype: int64,\n",
       " 0    14947\n",
       " 1      357\n",
       " Name: heart_disease, dtype: int64)"
      ]
     },
     "execution_count": 571,
     "metadata": {},
     "output_type": "execute_result"
    }
   ],
   "source": [
    "f.hypertension.value_counts(), f.heart_disease.value_counts()"
   ]
  },
  {
   "cell_type": "code",
   "execution_count": 572,
   "id": "8265df30",
   "metadata": {},
   "outputs": [],
   "source": [
    "### these column can be treated as object variables. We will make the necessary conversion during preprocessing"
   ]
  },
  {
   "cell_type": "code",
   "execution_count": 573,
   "id": "15d42303",
   "metadata": {},
   "outputs": [
    {
     "data": {
      "text/plain": [
       "<Axes: ylabel='work_type'>"
      ]
     },
     "execution_count": 573,
     "metadata": {},
     "output_type": "execute_result"
    },
    {
     "data": {
      "image/png": "[encoded data removed]",
      "text/plain": [
       "<Figure size 600x600 with 1 Axes>"
      ]
     },
     "metadata": {},
     "output_type": "display_data"
    }
   ],
   "source": [
    "plt.figure(figsize = (6,6))\n",
    "f.work_type.value_counts().plot(kind = 'pie', autopct = '%1.2f%%')"
   ]
  },
  {
   "cell_type": "code",
   "execution_count": 574,
   "id": "b6ac63cd",
   "metadata": {},
   "outputs": [
    {
     "data": {
      "text/plain": [
       "3.0372415072996914"
      ]
     },
     "execution_count": 574,
     "metadata": {},
     "output_type": "execute_result"
    }
   ],
   "source": [
    "f.avg_glucose_level.skew()"
   ]
  },
  {
   "cell_type": "code",
   "execution_count": 575,
   "id": "7461971c",
   "metadata": {},
   "outputs": [],
   "source": [
    "### skew() method quantifies the asymmetry of the distribution"
   ]
  },
  {
   "cell_type": "code",
   "execution_count": 576,
   "id": "0544f928",
   "metadata": {},
   "outputs": [],
   "source": [
    "### typically, any value between -0.5 to +0.5 implies that the distribution is more or less symmetric about its mean"
   ]
  },
  {
   "cell_type": "code",
   "execution_count": 577,
   "id": "a1c13505",
   "metadata": {},
   "outputs": [
    {
     "data": {
      "text/plain": [
       "0.71305081171682"
      ]
     },
     "execution_count": 577,
     "metadata": {},
     "output_type": "execute_result"
    }
   ],
   "source": [
    "f.bmi.skew()"
   ]
  },
  {
   "cell_type": "markdown",
   "id": "8e4f5244",
   "metadata": {},
   "source": [
    "# Preprocessing"
   ]
  },
  {
   "cell_type": "code",
   "execution_count": 578,
   "id": "52527f51",
   "metadata": {},
   "outputs": [],
   "source": [
    "## converting those int columns to object types"
   ]
  },
  {
   "cell_type": "code",
   "execution_count": 579,
   "id": "7d05838b",
   "metadata": {},
   "outputs": [],
   "source": [
    "f.hypertension = f.hypertension.astype('object')"
   ]
  },
  {
   "cell_type": "code",
   "execution_count": 580,
   "id": "f409fa95",
   "metadata": {},
   "outputs": [],
   "source": [
    "f.heart_disease = f.heart_disease.astype('object')"
   ]
  },
  {
   "cell_type": "code",
   "execution_count": 582,
   "id": "ca0a830b",
   "metadata": {},
   "outputs": [
    {
     "data": {
      "text/plain": [
       "gender                object\n",
       "age                  float64\n",
       "hypertension          object\n",
       "heart_disease         object\n",
       "ever_married          object\n",
       "work_type             object\n",
       "Residence_type        object\n",
       "avg_glucose_level    float64\n",
       "bmi                  float64\n",
       "smoking_status        object\n",
       "stroke                 int64\n",
       "dtype: object"
      ]
     },
     "execution_count": 582,
     "metadata": {},
     "output_type": "execute_result"
    }
   ],
   "source": [
    "f.dtypes"
   ]
  },
  {
   "cell_type": "code",
   "execution_count": 583,
   "id": "9c05456c",
   "metadata": {},
   "outputs": [],
   "source": [
    "from scipy import stats"
   ]
  },
  {
   "cell_type": "code",
   "execution_count": 584,
   "id": "d8e4ccb7",
   "metadata": {},
   "outputs": [
    {
     "data": {
      "text/plain": [
       "(15304, 11)"
      ]
     },
     "execution_count": 584,
     "metadata": {},
     "output_type": "execute_result"
    }
   ],
   "source": [
    "f.shape"
   ]
  },
  {
   "cell_type": "code",
   "execution_count": 585,
   "id": "9a88b7dc",
   "metadata": {},
   "outputs": [
    {
     "data": {
      "text/plain": [
       "gender               False\n",
       "age                  False\n",
       "hypertension         False\n",
       "heart_disease        False\n",
       "ever_married         False\n",
       "work_type            False\n",
       "Residence_type       False\n",
       "avg_glucose_level    False\n",
       "bmi                  False\n",
       "smoking_status       False\n",
       "stroke               False\n",
       "dtype: bool"
      ]
     },
     "execution_count": 585,
     "metadata": {},
     "output_type": "execute_result"
    }
   ],
   "source": [
    "f.isna().any()"
   ]
  },
  {
   "cell_type": "code",
   "execution_count": 586,
   "id": "63759a1a",
   "metadata": {},
   "outputs": [
    {
     "data": {
      "text/plain": [
       "gender               0\n",
       "age                  0\n",
       "hypertension         0\n",
       "heart_disease        0\n",
       "ever_married         0\n",
       "work_type            0\n",
       "Residence_type       0\n",
       "avg_glucose_level    0\n",
       "bmi                  0\n",
       "smoking_status       0\n",
       "stroke               0\n",
       "dtype: int64"
      ]
     },
     "execution_count": 586,
     "metadata": {},
     "output_type": "execute_result"
    }
   ],
   "source": [
    "f.isna().sum()"
   ]
  },
  {
   "cell_type": "code",
   "execution_count": 587,
   "id": "927570f8",
   "metadata": {},
   "outputs": [
    {
     "data": {
      "text/plain": [
       "(15304, 11)"
      ]
     },
     "execution_count": 587,
     "metadata": {},
     "output_type": "execute_result"
    }
   ],
   "source": [
    "f = f.drop_duplicates()\n",
    "f.shape"
   ]
  },
  {
   "cell_type": "code",
   "execution_count": 589,
   "id": "4c93e6f0",
   "metadata": {},
   "outputs": [],
   "source": [
    "## f = f [(np.abs(stats.zscore(numerical))<3).all(axis='columns')]\n",
    "## f.shape"
   ]
  },
  {
   "cell_type": "code",
   "execution_count": 622,
   "id": "78c4ba29",
   "metadata": {},
   "outputs": [],
   "source": [
    "### we will not perform any outlier removal now since the data already has class imbalance"
   ]
  },
  {
   "cell_type": "code",
   "execution_count": 590,
   "id": "a67a4d6a",
   "metadata": {},
   "outputs": [
    {
     "data": {
      "text/plain": [
       "(3.0372415072996914, 0.71305081171682)"
      ]
     },
     "execution_count": 590,
     "metadata": {},
     "output_type": "execute_result"
    }
   ],
   "source": [
    "f.avg_glucose_level.skew(), f.bmi.skew()"
   ]
  },
  {
   "cell_type": "code",
   "execution_count": 591,
   "id": "0b5c7fc0",
   "metadata": {},
   "outputs": [
    {
     "data": {
      "text/plain": [
       "<Axes: >"
      ]
     },
     "execution_count": 591,
     "metadata": {},
     "output_type": "execute_result"
    },
    {
     "data": {
      "image/png": "[encoded data removed]",
      "text/plain": [
       "<Figure size 640x480 with 1 Axes>"
      ]
     },
     "metadata": {},
     "output_type": "display_data"
    }
   ],
   "source": [
    "g = f[['avg_glucose_level', 'bmi']]\n",
    "sns.boxplot(g)"
   ]
  },
  {
   "cell_type": "code",
   "execution_count": 592,
   "id": "c85d23ef",
   "metadata": {},
   "outputs": [
    {
     "data": {
      "text/html": [
       "<div>\n",
       "<style scoped>\n",
       "    .dataframe tbody tr th:only-of-type {\n",
       "        vertical-align: middle;\n",
       "    }\n",
       "\n",
       "    .dataframe tbody tr th {\n",
       "        vertical-align: top;\n",
       "    }\n",
       "\n",
       "    .dataframe thead th {\n",
       "        text-align: right;\n",
       "    }\n",
       "</style>\n",
       "<table border=\"1\" class=\"dataframe\">\n",
       "  <thead>\n",
       "    <tr style=\"text-align: right;\">\n",
       "      <th></th>\n",
       "      <th>age</th>\n",
       "      <th>avg_glucose_level</th>\n",
       "      <th>bmi</th>\n",
       "      <th>stroke</th>\n",
       "    </tr>\n",
       "  </thead>\n",
       "  <tbody>\n",
       "    <tr>\n",
       "      <th>0</th>\n",
       "      <td>0.625710</td>\n",
       "      <td>0.373297</td>\n",
       "      <td>0.444397</td>\n",
       "      <td>0.207546</td>\n",
       "    </tr>\n",
       "    <tr>\n",
       "      <th>1</th>\n",
       "      <td>0.392544</td>\n",
       "      <td>0.416084</td>\n",
       "      <td>0.626698</td>\n",
       "      <td>0.207546</td>\n",
       "    </tr>\n",
       "    <tr>\n",
       "      <th>2</th>\n",
       "      <td>0.027154</td>\n",
       "      <td>0.547988</td>\n",
       "      <td>1.813018</td>\n",
       "      <td>0.207546</td>\n",
       "    </tr>\n",
       "    <tr>\n",
       "      <th>3</th>\n",
       "      <td>0.680018</td>\n",
       "      <td>0.948757</td>\n",
       "      <td>0.102242</td>\n",
       "      <td>0.207546</td>\n",
       "    </tr>\n",
       "    <tr>\n",
       "      <th>4</th>\n",
       "      <td>0.812243</td>\n",
       "      <td>0.615493</td>\n",
       "      <td>0.102242</td>\n",
       "      <td>0.207546</td>\n",
       "    </tr>\n",
       "    <tr>\n",
       "      <th>...</th>\n",
       "      <td>...</td>\n",
       "      <td>...</td>\n",
       "      <td>...</td>\n",
       "      <td>...</td>\n",
       "    </tr>\n",
       "    <tr>\n",
       "      <th>15299</th>\n",
       "      <td>0.905509</td>\n",
       "      <td>0.644148</td>\n",
       "      <td>1.281255</td>\n",
       "      <td>0.207546</td>\n",
       "    </tr>\n",
       "    <tr>\n",
       "      <th>15300</th>\n",
       "      <td>0.213687</td>\n",
       "      <td>0.476939</td>\n",
       "      <td>0.593160</td>\n",
       "      <td>0.207546</td>\n",
       "    </tr>\n",
       "    <tr>\n",
       "      <th>15301</th>\n",
       "      <td>1.566048</td>\n",
       "      <td>0.052987</td>\n",
       "      <td>0.284542</td>\n",
       "      <td>0.207546</td>\n",
       "    </tr>\n",
       "    <tr>\n",
       "      <th>15302</th>\n",
       "      <td>0.213687</td>\n",
       "      <td>0.474584</td>\n",
       "      <td>0.834966</td>\n",
       "      <td>0.207546</td>\n",
       "    </tr>\n",
       "    <tr>\n",
       "      <th>15303</th>\n",
       "      <td>1.278574</td>\n",
       "      <td>0.153869</td>\n",
       "      <td>0.507687</td>\n",
       "      <td>0.207546</td>\n",
       "    </tr>\n",
       "  </tbody>\n",
       "</table>\n",
       "<p>15304 rows × 4 columns</p>\n",
       "</div>"
      ],
      "text/plain": [
       "            age  avg_glucose_level       bmi    stroke\n",
       "0      0.625710           0.373297  0.444397  0.207546\n",
       "1      0.392544           0.416084  0.626698  0.207546\n",
       "2      0.027154           0.547988  1.813018  0.207546\n",
       "3      0.680018           0.948757  0.102242  0.207546\n",
       "4      0.812243           0.615493  0.102242  0.207546\n",
       "...         ...                ...       ...       ...\n",
       "15299  0.905509           0.644148  1.281255  0.207546\n",
       "15300  0.213687           0.476939  0.593160  0.207546\n",
       "15301  1.566048           0.052987  0.284542  0.207546\n",
       "15302  0.213687           0.474584  0.834966  0.207546\n",
       "15303  1.278574           0.153869  0.507687  0.207546\n",
       "\n",
       "[15304 rows x 4 columns]"
      ]
     },
     "execution_count": 592,
     "metadata": {},
     "output_type": "execute_result"
    }
   ],
   "source": [
    "num = f.select_dtypes (include = 'number')\n",
    "np.abs(stats.zscore(num))"
   ]
  },
  {
   "cell_type": "code",
   "execution_count": 593,
   "id": "99f81f9a",
   "metadata": {},
   "outputs": [
    {
     "data": {
      "text/plain": [
       "0    14672\n",
       "1      632\n",
       "Name: stroke, dtype: int64"
      ]
     },
     "execution_count": 593,
     "metadata": {},
     "output_type": "execute_result"
    }
   ],
   "source": [
    "f.stroke.value_counts()"
   ]
  },
  {
   "cell_type": "code",
   "execution_count": 594,
   "id": "3879a7ee",
   "metadata": {},
   "outputs": [],
   "source": [
    "### the dataset clearly has class imbalance"
   ]
  },
  {
   "cell_type": "code",
   "execution_count": 595,
   "id": "8a5b7528",
   "metadata": {},
   "outputs": [
    {
     "data": {
      "text/html": [
       "<div>\n",
       "<style scoped>\n",
       "    .dataframe tbody tr th:only-of-type {\n",
       "        vertical-align: middle;\n",
       "    }\n",
       "\n",
       "    .dataframe tbody tr th {\n",
       "        vertical-align: top;\n",
       "    }\n",
       "\n",
       "    .dataframe thead th {\n",
       "        text-align: right;\n",
       "    }\n",
       "</style>\n",
       "<table border=\"1\" class=\"dataframe\">\n",
       "  <thead>\n",
       "    <tr style=\"text-align: right;\">\n",
       "      <th></th>\n",
       "      <th>gender</th>\n",
       "      <th>age</th>\n",
       "      <th>hypertension</th>\n",
       "      <th>heart_disease</th>\n",
       "      <th>ever_married</th>\n",
       "      <th>work_type</th>\n",
       "      <th>Residence_type</th>\n",
       "      <th>avg_glucose_level</th>\n",
       "      <th>bmi</th>\n",
       "      <th>smoking_status</th>\n",
       "      <th>stroke</th>\n",
       "    </tr>\n",
       "  </thead>\n",
       "  <tbody>\n",
       "    <tr>\n",
       "      <th>0</th>\n",
       "      <td>Male</td>\n",
       "      <td>28.0</td>\n",
       "      <td>0</td>\n",
       "      <td>0</td>\n",
       "      <td>Yes</td>\n",
       "      <td>Private</td>\n",
       "      <td>Urban</td>\n",
       "      <td>79.53</td>\n",
       "      <td>31.1</td>\n",
       "      <td>never smoked</td>\n",
       "      <td>0</td>\n",
       "    </tr>\n",
       "  </tbody>\n",
       "</table>\n",
       "</div>"
      ],
      "text/plain": [
       "  gender   age hypertension heart_disease ever_married work_type  \\\n",
       "0   Male  28.0            0             0          Yes   Private   \n",
       "\n",
       "  Residence_type  avg_glucose_level   bmi smoking_status  stroke  \n",
       "0          Urban              79.53  31.1   never smoked       0  "
      ]
     },
     "execution_count": 595,
     "metadata": {},
     "output_type": "execute_result"
    }
   ],
   "source": [
    "f.head(1)"
   ]
  },
  {
   "cell_type": "code",
   "execution_count": 596,
   "id": "f964d1d5",
   "metadata": {},
   "outputs": [],
   "source": [
    "x = f.iloc[:,:-1]\n",
    "y = f.stroke"
   ]
  },
  {
   "cell_type": "code",
   "execution_count": 597,
   "id": "66fceeb9",
   "metadata": {},
   "outputs": [],
   "source": [
    "x_num = x.select_dtypes (include = 'number')\n",
    "x_obj = x.select_dtypes (include = 'object')"
   ]
  },
  {
   "cell_type": "code",
   "execution_count": 598,
   "id": "9e63657f",
   "metadata": {},
   "outputs": [],
   "source": [
    "from sklearn.preprocessing import MinMaxScaler"
   ]
  },
  {
   "cell_type": "code",
   "execution_count": 599,
   "id": "cbf997bd",
   "metadata": {},
   "outputs": [
    {
     "data": {
      "text/html": [
       "<div>\n",
       "<style scoped>\n",
       "    .dataframe tbody tr th:only-of-type {\n",
       "        vertical-align: middle;\n",
       "    }\n",
       "\n",
       "    .dataframe tbody tr th {\n",
       "        vertical-align: top;\n",
       "    }\n",
       "\n",
       "    .dataframe thead th {\n",
       "        text-align: right;\n",
       "    }\n",
       "</style>\n",
       "<table border=\"1\" class=\"dataframe\">\n",
       "  <thead>\n",
       "    <tr style=\"text-align: right;\">\n",
       "      <th></th>\n",
       "      <th>age</th>\n",
       "      <th>avg_glucose_level</th>\n",
       "      <th>bmi</th>\n",
       "    </tr>\n",
       "  </thead>\n",
       "  <tbody>\n",
       "    <tr>\n",
       "      <th>0</th>\n",
       "      <td>0.340820</td>\n",
       "      <td>0.114465</td>\n",
       "      <td>0.297994</td>\n",
       "    </tr>\n",
       "    <tr>\n",
       "      <th>1</th>\n",
       "      <td>0.401855</td>\n",
       "      <td>0.109332</td>\n",
       "      <td>0.194842</td>\n",
       "    </tr>\n",
       "    <tr>\n",
       "      <th>2</th>\n",
       "      <td>0.511719</td>\n",
       "      <td>0.224974</td>\n",
       "      <td>0.429799</td>\n",
       "    </tr>\n",
       "    <tr>\n",
       "      <th>3</th>\n",
       "      <td>0.682617</td>\n",
       "      <td>0.045437</td>\n",
       "      <td>0.265043</td>\n",
       "    </tr>\n",
       "    <tr>\n",
       "      <th>4</th>\n",
       "      <td>0.291992</td>\n",
       "      <td>0.085413</td>\n",
       "      <td>0.265043</td>\n",
       "    </tr>\n",
       "  </tbody>\n",
       "</table>\n",
       "</div>"
      ],
      "text/plain": [
       "        age  avg_glucose_level       bmi\n",
       "0  0.340820           0.114465  0.297994\n",
       "1  0.401855           0.109332  0.194842\n",
       "2  0.511719           0.224974  0.429799\n",
       "3  0.682617           0.045437  0.265043\n",
       "4  0.291992           0.085413  0.265043"
      ]
     },
     "execution_count": 599,
     "metadata": {},
     "output_type": "execute_result"
    }
   ],
   "source": [
    "scaler = MinMaxScaler()\n",
    "x_num_s = scaler.fit_transform(x_num)\n",
    "x_num_s = pd.DataFrame(x_num_s, columns = x_num.columns, index = x_num.index)\n",
    "x_num_s.head(5)"
   ]
  },
  {
   "cell_type": "code",
   "execution_count": 600,
   "id": "cb71d03c",
   "metadata": {},
   "outputs": [
    {
     "data": {
      "text/html": [
       "<div>\n",
       "<style scoped>\n",
       "    .dataframe tbody tr th:only-of-type {\n",
       "        vertical-align: middle;\n",
       "    }\n",
       "\n",
       "    .dataframe tbody tr th {\n",
       "        vertical-align: top;\n",
       "    }\n",
       "\n",
       "    .dataframe thead th {\n",
       "        text-align: right;\n",
       "    }\n",
       "</style>\n",
       "<table border=\"1\" class=\"dataframe\">\n",
       "  <thead>\n",
       "    <tr style=\"text-align: right;\">\n",
       "      <th></th>\n",
       "      <th>age</th>\n",
       "      <th>avg_glucose_level</th>\n",
       "      <th>bmi</th>\n",
       "    </tr>\n",
       "  </thead>\n",
       "  <tbody>\n",
       "    <tr>\n",
       "      <th>count</th>\n",
       "      <td>15304.000000</td>\n",
       "      <td>15304.000000</td>\n",
       "      <td>15304.000000</td>\n",
       "    </tr>\n",
       "    <tr>\n",
       "      <th>mean</th>\n",
       "      <td>0.504611</td>\n",
       "      <td>0.159242</td>\n",
       "      <td>0.255197</td>\n",
       "    </tr>\n",
       "    <tr>\n",
       "      <th>std</th>\n",
       "      <td>0.261776</td>\n",
       "      <td>0.119955</td>\n",
       "      <td>0.096308</td>\n",
       "    </tr>\n",
       "    <tr>\n",
       "      <th>min</th>\n",
       "      <td>0.000000</td>\n",
       "      <td>0.000000</td>\n",
       "      <td>0.000000</td>\n",
       "    </tr>\n",
       "    <tr>\n",
       "      <th>25%</th>\n",
       "      <td>0.316406</td>\n",
       "      <td>0.092664</td>\n",
       "      <td>0.189112</td>\n",
       "    </tr>\n",
       "    <tr>\n",
       "      <th>50%</th>\n",
       "      <td>0.523926</td>\n",
       "      <td>0.140785</td>\n",
       "      <td>0.247851</td>\n",
       "    </tr>\n",
       "    <tr>\n",
       "      <th>75%</th>\n",
       "      <td>0.694824</td>\n",
       "      <td>0.196629</td>\n",
       "      <td>0.310888</td>\n",
       "    </tr>\n",
       "    <tr>\n",
       "      <th>max</th>\n",
       "      <td>1.000000</td>\n",
       "      <td>1.000000</td>\n",
       "      <td>1.000000</td>\n",
       "    </tr>\n",
       "  </tbody>\n",
       "</table>\n",
       "</div>"
      ],
      "text/plain": [
       "                age  avg_glucose_level           bmi\n",
       "count  15304.000000       15304.000000  15304.000000\n",
       "mean       0.504611           0.159242      0.255197\n",
       "std        0.261776           0.119955      0.096308\n",
       "min        0.000000           0.000000      0.000000\n",
       "25%        0.316406           0.092664      0.189112\n",
       "50%        0.523926           0.140785      0.247851\n",
       "75%        0.694824           0.196629      0.310888\n",
       "max        1.000000           1.000000      1.000000"
      ]
     },
     "execution_count": 600,
     "metadata": {},
     "output_type": "execute_result"
    }
   ],
   "source": [
    "x_num_s.describe()"
   ]
  },
  {
   "cell_type": "code",
   "execution_count": 601,
   "id": "b574e0c9",
   "metadata": {},
   "outputs": [
    {
     "name": "stderr",
     "output_type": "stream",
     "text": [
      "C:\\Users\\DELL\\AppData\\Local\\Temp\\ipykernel_5056\\2342079193.py:1: FutureWarning: In a future version, the Index constructor will not infer numeric dtypes when passed object-dtype sequences (matching Series behavior)\n",
      "  x_obj_e = pd.get_dummies (x_obj, drop_first = False, dtype = int)\n",
      "C:\\Users\\DELL\\AppData\\Local\\Temp\\ipykernel_5056\\2342079193.py:1: FutureWarning: In a future version, the Index constructor will not infer numeric dtypes when passed object-dtype sequences (matching Series behavior)\n",
      "  x_obj_e = pd.get_dummies (x_obj, drop_first = False, dtype = int)\n"
     ]
    }
   ],
   "source": [
    "x_obj_e = pd.get_dummies (x_obj, drop_first = False, dtype = int)"
   ]
  },
  {
   "cell_type": "code",
   "execution_count": 602,
   "id": "4a601814",
   "metadata": {},
   "outputs": [
    {
     "data": {
      "text/html": [
       "<div>\n",
       "<style scoped>\n",
       "    .dataframe tbody tr th:only-of-type {\n",
       "        vertical-align: middle;\n",
       "    }\n",
       "\n",
       "    .dataframe tbody tr th {\n",
       "        vertical-align: top;\n",
       "    }\n",
       "\n",
       "    .dataframe thead th {\n",
       "        text-align: right;\n",
       "    }\n",
       "</style>\n",
       "<table border=\"1\" class=\"dataframe\">\n",
       "  <thead>\n",
       "    <tr style=\"text-align: right;\">\n",
       "      <th></th>\n",
       "      <th>age</th>\n",
       "      <th>avg_glucose_level</th>\n",
       "      <th>bmi</th>\n",
       "      <th>gender_Female</th>\n",
       "      <th>gender_Male</th>\n",
       "      <th>gender_Other</th>\n",
       "      <th>hypertension_0</th>\n",
       "      <th>hypertension_1</th>\n",
       "      <th>heart_disease_0</th>\n",
       "      <th>heart_disease_1</th>\n",
       "      <th>...</th>\n",
       "      <th>work_type_Never_worked</th>\n",
       "      <th>work_type_Private</th>\n",
       "      <th>work_type_Self-employed</th>\n",
       "      <th>work_type_children</th>\n",
       "      <th>Residence_type_Rural</th>\n",
       "      <th>Residence_type_Urban</th>\n",
       "      <th>smoking_status_Unknown</th>\n",
       "      <th>smoking_status_formerly smoked</th>\n",
       "      <th>smoking_status_never smoked</th>\n",
       "      <th>smoking_status_smokes</th>\n",
       "    </tr>\n",
       "  </thead>\n",
       "  <tbody>\n",
       "    <tr>\n",
       "      <th>0</th>\n",
       "      <td>0.340820</td>\n",
       "      <td>0.114465</td>\n",
       "      <td>0.297994</td>\n",
       "      <td>0</td>\n",
       "      <td>1</td>\n",
       "      <td>0</td>\n",
       "      <td>1</td>\n",
       "      <td>0</td>\n",
       "      <td>1</td>\n",
       "      <td>0</td>\n",
       "      <td>...</td>\n",
       "      <td>0</td>\n",
       "      <td>1</td>\n",
       "      <td>0</td>\n",
       "      <td>0</td>\n",
       "      <td>0</td>\n",
       "      <td>1</td>\n",
       "      <td>0</td>\n",
       "      <td>0</td>\n",
       "      <td>1</td>\n",
       "      <td>0</td>\n",
       "    </tr>\n",
       "    <tr>\n",
       "      <th>1</th>\n",
       "      <td>0.401855</td>\n",
       "      <td>0.109332</td>\n",
       "      <td>0.194842</td>\n",
       "      <td>0</td>\n",
       "      <td>1</td>\n",
       "      <td>0</td>\n",
       "      <td>1</td>\n",
       "      <td>0</td>\n",
       "      <td>1</td>\n",
       "      <td>0</td>\n",
       "      <td>...</td>\n",
       "      <td>0</td>\n",
       "      <td>1</td>\n",
       "      <td>0</td>\n",
       "      <td>0</td>\n",
       "      <td>1</td>\n",
       "      <td>0</td>\n",
       "      <td>0</td>\n",
       "      <td>1</td>\n",
       "      <td>0</td>\n",
       "      <td>0</td>\n",
       "    </tr>\n",
       "    <tr>\n",
       "      <th>2</th>\n",
       "      <td>0.511719</td>\n",
       "      <td>0.224974</td>\n",
       "      <td>0.429799</td>\n",
       "      <td>1</td>\n",
       "      <td>0</td>\n",
       "      <td>0</td>\n",
       "      <td>1</td>\n",
       "      <td>0</td>\n",
       "      <td>1</td>\n",
       "      <td>0</td>\n",
       "      <td>...</td>\n",
       "      <td>0</td>\n",
       "      <td>1</td>\n",
       "      <td>0</td>\n",
       "      <td>0</td>\n",
       "      <td>1</td>\n",
       "      <td>0</td>\n",
       "      <td>1</td>\n",
       "      <td>0</td>\n",
       "      <td>0</td>\n",
       "      <td>0</td>\n",
       "    </tr>\n",
       "  </tbody>\n",
       "</table>\n",
       "<p>3 rows × 23 columns</p>\n",
       "</div>"
      ],
      "text/plain": [
       "        age  avg_glucose_level       bmi  gender_Female  gender_Male  \\\n",
       "0  0.340820           0.114465  0.297994              0            1   \n",
       "1  0.401855           0.109332  0.194842              0            1   \n",
       "2  0.511719           0.224974  0.429799              1            0   \n",
       "\n",
       "   gender_Other  hypertension_0  hypertension_1  heart_disease_0  \\\n",
       "0             0               1               0                1   \n",
       "1             0               1               0                1   \n",
       "2             0               1               0                1   \n",
       "\n",
       "   heart_disease_1  ...  work_type_Never_worked  work_type_Private  \\\n",
       "0                0  ...                       0                  1   \n",
       "1                0  ...                       0                  1   \n",
       "2                0  ...                       0                  1   \n",
       "\n",
       "   work_type_Self-employed  work_type_children  Residence_type_Rural  \\\n",
       "0                        0                   0                     0   \n",
       "1                        0                   0                     1   \n",
       "2                        0                   0                     1   \n",
       "\n",
       "   Residence_type_Urban  smoking_status_Unknown  \\\n",
       "0                     1                       0   \n",
       "1                     0                       0   \n",
       "2                     0                       1   \n",
       "\n",
       "   smoking_status_formerly smoked  smoking_status_never smoked  \\\n",
       "0                               0                            1   \n",
       "1                               1                            0   \n",
       "2                               0                            0   \n",
       "\n",
       "   smoking_status_smokes  \n",
       "0                      0  \n",
       "1                      0  \n",
       "2                      0  \n",
       "\n",
       "[3 rows x 23 columns]"
      ]
     },
     "execution_count": 602,
     "metadata": {},
     "output_type": "execute_result"
    }
   ],
   "source": [
    "X = pd.concat([x_num_s, x_obj_e], axis = 'columns')\n",
    "X.head(3)"
   ]
  },
  {
   "cell_type": "code",
   "execution_count": 603,
   "id": "6ac2b471",
   "metadata": {
    "scrolled": true
   },
   "outputs": [
    {
     "data": {
      "text/plain": [
       "age                               0\n",
       "avg_glucose_level                 0\n",
       "bmi                               0\n",
       "gender_Female                     0\n",
       "gender_Male                       0\n",
       "gender_Other                      0\n",
       "hypertension_0                    0\n",
       "hypertension_1                    0\n",
       "heart_disease_0                   0\n",
       "heart_disease_1                   0\n",
       "ever_married_No                   0\n",
       "ever_married_Yes                  0\n",
       "work_type_Govt_job                0\n",
       "work_type_Never_worked            0\n",
       "work_type_Private                 0\n",
       "work_type_Self-employed           0\n",
       "work_type_children                0\n",
       "Residence_type_Rural              0\n",
       "Residence_type_Urban              0\n",
       "smoking_status_Unknown            0\n",
       "smoking_status_formerly smoked    0\n",
       "smoking_status_never smoked       0\n",
       "smoking_status_smokes             0\n",
       "dtype: int64"
      ]
     },
     "execution_count": 603,
     "metadata": {},
     "output_type": "execute_result"
    }
   ],
   "source": [
    "X.isna().sum()"
   ]
  },
  {
   "cell_type": "code",
   "execution_count": 604,
   "id": "0252343d",
   "metadata": {},
   "outputs": [],
   "source": [
    "sm = SMOTE()\n",
    "new_X, new_y = sm.fit_resample(X, y)"
   ]
  },
  {
   "cell_type": "code",
   "execution_count": 605,
   "id": "ed271c6d",
   "metadata": {},
   "outputs": [
    {
     "data": {
      "text/plain": [
       "((29344, 23), (29344,))"
      ]
     },
     "execution_count": 605,
     "metadata": {},
     "output_type": "execute_result"
    }
   ],
   "source": [
    "new_X.shape, new_y.shape"
   ]
  },
  {
   "cell_type": "code",
   "execution_count": 606,
   "id": "f9c12378",
   "metadata": {},
   "outputs": [],
   "source": [
    "from sklearn.model_selection import train_test_split"
   ]
  },
  {
   "cell_type": "code",
   "execution_count": 607,
   "id": "01fe6849",
   "metadata": {},
   "outputs": [],
   "source": [
    "xtrain, xtest, ytrain, ytest = train_test_split (new_X, new_y, random_state = 5)"
   ]
  },
  {
   "cell_type": "code",
   "execution_count": 608,
   "id": "5dff7139",
   "metadata": {},
   "outputs": [
    {
     "name": "stdout",
     "output_type": "stream",
     "text": [
      "(22008, 23)\n",
      "(7336, 23)\n",
      "(22008,)\n",
      "(7336,)\n"
     ]
    }
   ],
   "source": [
    "print(xtrain.shape)\n",
    "print(xtest.shape)\n",
    "print(ytrain.shape) \n",
    "print(ytest.shape)"
   ]
  },
  {
   "cell_type": "code",
   "execution_count": 609,
   "id": "1e58e17e",
   "metadata": {},
   "outputs": [],
   "source": [
    "from sklearn.linear_model import LogisticRegression"
   ]
  },
  {
   "cell_type": "code",
   "execution_count": 610,
   "id": "346ea867",
   "metadata": {},
   "outputs": [],
   "source": [
    "lr = LogisticRegression()"
   ]
  },
  {
   "cell_type": "code",
   "execution_count": 611,
   "id": "1da89cbe",
   "metadata": {},
   "outputs": [
    {
     "name": "stderr",
     "output_type": "stream",
     "text": [
      "C:\\Users\\DELL\\anaconda3\\Lib\\site-packages\\sklearn\\linear_model\\_logistic.py:458: ConvergenceWarning: lbfgs failed to converge (status=1):\n",
      "STOP: TOTAL NO. of ITERATIONS REACHED LIMIT.\n",
      "\n",
      "Increase the number of iterations (max_iter) or scale the data as shown in:\n",
      "    https://scikit-learn.org/stable/modules/preprocessing.html\n",
      "Please also refer to the documentation for alternative solver options:\n",
      "    https://scikit-learn.org/stable/modules/linear_model.html#logistic-regression\n",
      "  n_iter_i = _check_optimize_result(\n"
     ]
    },
    {
     "data": {
      "text/html": [
       "<style>#sk-container-id-3 {color: black;background-color: white;}#sk-container-id-3 pre{padding: 0;}#sk-container-id-3 div.sk-toggleable {background-color: white;}#sk-container-id-3 label.sk-toggleable__label {cursor: pointer;display: block;width: 100%;margin-bottom: 0;padding: 0.3em;box-sizing: border-box;text-align: center;}#sk-container-id-3 label.sk-toggleable__label-arrow:before {content: \"▸\";float: left;margin-right: 0.25em;color: #696969;}#sk-container-id-3 label.sk-toggleable__label-arrow:hover:before {color: black;}#sk-container-id-3 div.sk-estimator:hover label.sk-toggleable__label-arrow:before {color: black;}#sk-container-id-3 div.sk-toggleable__content {max-height: 0;max-width: 0;overflow: hidden;text-align: left;background-color: #f0f8ff;}#sk-container-id-3 div.sk-toggleable__content pre {margin: 0.2em;color: black;border-radius: 0.25em;background-color: #f0f8ff;}#sk-container-id-3 input.sk-toggleable__control:checked~div.sk-toggleable__content {max-height: 200px;max-width: 100%;overflow: auto;}#sk-container-id-3 input.sk-toggleable__control:checked~label.sk-toggleable__label-arrow:before {content: \"▾\";}#sk-container-id-3 div.sk-estimator input.sk-toggleable__control:checked~label.sk-toggleable__label {background-color: #d4ebff;}#sk-container-id-3 div.sk-label input.sk-toggleable__control:checked~label.sk-toggleable__label {background-color: #d4ebff;}#sk-container-id-3 input.sk-hidden--visually {border: 0;clip: rect(1px 1px 1px 1px);clip: rect(1px, 1px, 1px, 1px);height: 1px;margin: -1px;overflow: hidden;padding: 0;position: absolute;width: 1px;}#sk-container-id-3 div.sk-estimator {font-family: monospace;background-color: #f0f8ff;border: 1px dotted black;border-radius: 0.25em;box-sizing: border-box;margin-bottom: 0.5em;}#sk-container-id-3 div.sk-estimator:hover {background-color: #d4ebff;}#sk-container-id-3 div.sk-parallel-item::after {content: \"\";width: 100%;border-bottom: 1px solid gray;flex-grow: 1;}#sk-container-id-3 div.sk-label:hover label.sk-toggleable__label {background-color: #d4ebff;}#sk-container-id-3 div.sk-serial::before {content: \"\";position: absolute;border-left: 1px solid gray;box-sizing: border-box;top: 0;bottom: 0;left: 50%;z-index: 0;}#sk-container-id-3 div.sk-serial {display: flex;flex-direction: column;align-items: center;background-color: white;padding-right: 0.2em;padding-left: 0.2em;position: relative;}#sk-container-id-3 div.sk-item {position: relative;z-index: 1;}#sk-container-id-3 div.sk-parallel {display: flex;align-items: stretch;justify-content: center;background-color: white;position: relative;}#sk-container-id-3 div.sk-item::before, #sk-container-id-3 div.sk-parallel-item::before {content: \"\";position: absolute;border-left: 1px solid gray;box-sizing: border-box;top: 0;bottom: 0;left: 50%;z-index: -1;}#sk-container-id-3 div.sk-parallel-item {display: flex;flex-direction: column;z-index: 1;position: relative;background-color: white;}#sk-container-id-3 div.sk-parallel-item:first-child::after {align-self: flex-end;width: 50%;}#sk-container-id-3 div.sk-parallel-item:last-child::after {align-self: flex-start;width: 50%;}#sk-container-id-3 div.sk-parallel-item:only-child::after {width: 0;}#sk-container-id-3 div.sk-dashed-wrapped {border: 1px dashed gray;margin: 0 0.4em 0.5em 0.4em;box-sizing: border-box;padding-bottom: 0.4em;background-color: white;}#sk-container-id-3 div.sk-label label {font-family: monospace;font-weight: bold;display: inline-block;line-height: 1.2em;}#sk-container-id-3 div.sk-label-container {text-align: center;}#sk-container-id-3 div.sk-container {/* jupyter's `normalize.less` sets `[hidden] { display: none; }` but bootstrap.min.css set `[hidden] { display: none !important; }` so we also need the `!important` here to be able to override the default hidden behavior on the sphinx rendered scikit-learn.org. See: https://github.com/scikit-learn/scikit-learn/issues/21755 */display: inline-block !important;position: relative;}#sk-container-id-3 div.sk-text-repr-fallback {display: none;}</style><div id=\"sk-container-id-3\" class=\"sk-top-container\"><div class=\"sk-text-repr-fallback\"><pre>LogisticRegression()</pre><b>In a Jupyter environment, please rerun this cell to show the HTML representation or trust the notebook. <br />On GitHub, the HTML representation is unable to render, please try loading this page with nbviewer.org.</b></div><div class=\"sk-container\" hidden><div class=\"sk-item\"><div class=\"sk-estimator sk-toggleable\"><input class=\"sk-toggleable__control sk-hidden--visually\" id=\"sk-estimator-id-3\" type=\"checkbox\" checked><label for=\"sk-estimator-id-3\" class=\"sk-toggleable__label sk-toggleable__label-arrow\">LogisticRegression</label><div class=\"sk-toggleable__content\"><pre>LogisticRegression()</pre></div></div></div></div></div>"
      ],
      "text/plain": [
       "LogisticRegression()"
      ]
     },
     "execution_count": 611,
     "metadata": {},
     "output_type": "execute_result"
    }
   ],
   "source": [
    "lr.fit (xtrain, ytrain)"
   ]
  },
  {
   "cell_type": "code",
   "execution_count": 612,
   "id": "da44034b",
   "metadata": {},
   "outputs": [
    {
     "data": {
      "text/plain": [
       "(array([15.67160951]),\n",
       " array([[ 9.22261112,  1.60774796,  1.6719804 , -3.56618536, -3.54928288,\n",
       "         -0.02511552, -3.05573244, -3.01811555, -3.40207822, -4.07739278,\n",
       "         -4.26195099, -3.58889455, -3.36043789, -1.02879806, -2.99407653,\n",
       "         -3.75784034, -2.65584731, -2.8015589 , -2.78844708, -3.70647177,\n",
       "         -3.6486903 , -3.43224076, -3.12526411]]))"
      ]
     },
     "execution_count": 612,
     "metadata": {},
     "output_type": "execute_result"
    }
   ],
   "source": [
    "lr.intercept_, lr.coef_"
   ]
  },
  {
   "cell_type": "code",
   "execution_count": 613,
   "id": "4fd7b3bc",
   "metadata": {},
   "outputs": [],
   "source": [
    "xtrain ['probability'] = lr.predict_proba(xtrain) [:,1]"
   ]
  },
  {
   "cell_type": "code",
   "execution_count": 614,
   "id": "9e259b03",
   "metadata": {},
   "outputs": [
    {
     "data": {
      "text/html": [
       "<div>\n",
       "<style scoped>\n",
       "    .dataframe tbody tr th:only-of-type {\n",
       "        vertical-align: middle;\n",
       "    }\n",
       "\n",
       "    .dataframe tbody tr th {\n",
       "        vertical-align: top;\n",
       "    }\n",
       "\n",
       "    .dataframe thead th {\n",
       "        text-align: right;\n",
       "    }\n",
       "</style>\n",
       "<table border=\"1\" class=\"dataframe\">\n",
       "  <thead>\n",
       "    <tr style=\"text-align: right;\">\n",
       "      <th></th>\n",
       "      <th>age</th>\n",
       "      <th>avg_glucose_level</th>\n",
       "      <th>bmi</th>\n",
       "      <th>gender_Female</th>\n",
       "      <th>gender_Male</th>\n",
       "      <th>gender_Other</th>\n",
       "      <th>hypertension_0</th>\n",
       "      <th>hypertension_1</th>\n",
       "      <th>heart_disease_0</th>\n",
       "      <th>heart_disease_1</th>\n",
       "      <th>...</th>\n",
       "      <th>work_type_Private</th>\n",
       "      <th>work_type_Self-employed</th>\n",
       "      <th>work_type_children</th>\n",
       "      <th>Residence_type_Rural</th>\n",
       "      <th>Residence_type_Urban</th>\n",
       "      <th>smoking_status_Unknown</th>\n",
       "      <th>smoking_status_formerly smoked</th>\n",
       "      <th>smoking_status_never smoked</th>\n",
       "      <th>smoking_status_smokes</th>\n",
       "      <th>probability</th>\n",
       "    </tr>\n",
       "  </thead>\n",
       "  <tbody>\n",
       "    <tr>\n",
       "      <th>2356</th>\n",
       "      <td>0.157715</td>\n",
       "      <td>0.024249</td>\n",
       "      <td>0.223496</td>\n",
       "      <td>1</td>\n",
       "      <td>0</td>\n",
       "      <td>0</td>\n",
       "      <td>1</td>\n",
       "      <td>0</td>\n",
       "      <td>1</td>\n",
       "      <td>0</td>\n",
       "      <td>...</td>\n",
       "      <td>0</td>\n",
       "      <td>0</td>\n",
       "      <td>1</td>\n",
       "      <td>1</td>\n",
       "      <td>0</td>\n",
       "      <td>1</td>\n",
       "      <td>0</td>\n",
       "      <td>0</td>\n",
       "      <td>0</td>\n",
       "      <td>0.002702</td>\n",
       "    </tr>\n",
       "    <tr>\n",
       "      <th>10641</th>\n",
       "      <td>0.621582</td>\n",
       "      <td>0.227564</td>\n",
       "      <td>0.219198</td>\n",
       "      <td>0</td>\n",
       "      <td>1</td>\n",
       "      <td>0</td>\n",
       "      <td>1</td>\n",
       "      <td>0</td>\n",
       "      <td>1</td>\n",
       "      <td>0</td>\n",
       "      <td>...</td>\n",
       "      <td>1</td>\n",
       "      <td>0</td>\n",
       "      <td>0</td>\n",
       "      <td>0</td>\n",
       "      <td>1</td>\n",
       "      <td>0</td>\n",
       "      <td>0</td>\n",
       "      <td>1</td>\n",
       "      <td>0</td>\n",
       "      <td>0.337563</td>\n",
       "    </tr>\n",
       "    <tr>\n",
       "      <th>17430</th>\n",
       "      <td>0.963379</td>\n",
       "      <td>0.145728</td>\n",
       "      <td>0.234598</td>\n",
       "      <td>0</td>\n",
       "      <td>1</td>\n",
       "      <td>0</td>\n",
       "      <td>1</td>\n",
       "      <td>0</td>\n",
       "      <td>1</td>\n",
       "      <td>0</td>\n",
       "      <td>...</td>\n",
       "      <td>1</td>\n",
       "      <td>0</td>\n",
       "      <td>0</td>\n",
       "      <td>1</td>\n",
       "      <td>0</td>\n",
       "      <td>0</td>\n",
       "      <td>0</td>\n",
       "      <td>1</td>\n",
       "      <td>0</td>\n",
       "      <td>0.913659</td>\n",
       "    </tr>\n",
       "    <tr>\n",
       "      <th>18815</th>\n",
       "      <td>0.934806</td>\n",
       "      <td>0.668429</td>\n",
       "      <td>0.260105</td>\n",
       "      <td>0</td>\n",
       "      <td>0</td>\n",
       "      <td>0</td>\n",
       "      <td>0</td>\n",
       "      <td>1</td>\n",
       "      <td>1</td>\n",
       "      <td>0</td>\n",
       "      <td>...</td>\n",
       "      <td>0</td>\n",
       "      <td>1</td>\n",
       "      <td>0</td>\n",
       "      <td>1</td>\n",
       "      <td>0</td>\n",
       "      <td>0</td>\n",
       "      <td>1</td>\n",
       "      <td>0</td>\n",
       "      <td>0</td>\n",
       "      <td>0.996262</td>\n",
       "    </tr>\n",
       "    <tr>\n",
       "      <th>20519</th>\n",
       "      <td>0.697173</td>\n",
       "      <td>0.089209</td>\n",
       "      <td>0.333946</td>\n",
       "      <td>1</td>\n",
       "      <td>0</td>\n",
       "      <td>0</td>\n",
       "      <td>0</td>\n",
       "      <td>1</td>\n",
       "      <td>1</td>\n",
       "      <td>0</td>\n",
       "      <td>...</td>\n",
       "      <td>0</td>\n",
       "      <td>0</td>\n",
       "      <td>0</td>\n",
       "      <td>1</td>\n",
       "      <td>0</td>\n",
       "      <td>0</td>\n",
       "      <td>0</td>\n",
       "      <td>0</td>\n",
       "      <td>1</td>\n",
       "      <td>0.964465</td>\n",
       "    </tr>\n",
       "  </tbody>\n",
       "</table>\n",
       "<p>5 rows × 24 columns</p>\n",
       "</div>"
      ],
      "text/plain": [
       "            age  avg_glucose_level       bmi  gender_Female  gender_Male  \\\n",
       "2356   0.157715           0.024249  0.223496              1            0   \n",
       "10641  0.621582           0.227564  0.219198              0            1   \n",
       "17430  0.963379           0.145728  0.234598              0            1   \n",
       "18815  0.934806           0.668429  0.260105              0            0   \n",
       "20519  0.697173           0.089209  0.333946              1            0   \n",
       "\n",
       "       gender_Other  hypertension_0  hypertension_1  heart_disease_0  \\\n",
       "2356              0               1               0                1   \n",
       "10641             0               1               0                1   \n",
       "17430             0               1               0                1   \n",
       "18815             0               0               1                1   \n",
       "20519             0               0               1                1   \n",
       "\n",
       "       heart_disease_1  ...  work_type_Private  work_type_Self-employed  \\\n",
       "2356                 0  ...                  0                        0   \n",
       "10641                0  ...                  1                        0   \n",
       "17430                0  ...                  1                        0   \n",
       "18815                0  ...                  0                        1   \n",
       "20519                0  ...                  0                        0   \n",
       "\n",
       "       work_type_children  Residence_type_Rural  Residence_type_Urban  \\\n",
       "2356                    1                     1                     0   \n",
       "10641                   0                     0                     1   \n",
       "17430                   0                     1                     0   \n",
       "18815                   0                     1                     0   \n",
       "20519                   0                     1                     0   \n",
       "\n",
       "       smoking_status_Unknown  smoking_status_formerly smoked  \\\n",
       "2356                        1                               0   \n",
       "10641                       0                               0   \n",
       "17430                       0                               0   \n",
       "18815                       0                               1   \n",
       "20519                       0                               0   \n",
       "\n",
       "       smoking_status_never smoked  smoking_status_smokes  probability  \n",
       "2356                             0                      0     0.002702  \n",
       "10641                            1                      0     0.337563  \n",
       "17430                            1                      0     0.913659  \n",
       "18815                            0                      0     0.996262  \n",
       "20519                            0                      1     0.964465  \n",
       "\n",
       "[5 rows x 24 columns]"
      ]
     },
     "execution_count": 614,
     "metadata": {},
     "output_type": "execute_result"
    }
   ],
   "source": [
    "xtrain.head(5)"
   ]
  },
  {
   "cell_type": "code",
   "execution_count": 615,
   "id": "f55d744e",
   "metadata": {},
   "outputs": [],
   "source": [
    "ROC = pd.DataFrame(columns=['Threshold', 'TP', 'TN', 'FP', 'FN', 'TPR', 'FPR'])"
   ]
  },
  {
   "cell_type": "code",
   "execution_count": 616,
   "id": "19d27ad4",
   "metadata": {},
   "outputs": [],
   "source": [
    "from sklearn.metrics import roc_auc_score, confusion_matrix"
   ]
  },
  {
   "cell_type": "code",
   "execution_count": 617,
   "id": "58a9614c",
   "metadata": {},
   "outputs": [],
   "source": [
    "for threshold in np.arange(0, 1.1, 0.1):\n",
    "    pred = (xtrain['probability'] > threshold).astype(int)\n",
    "    cm = confusion_matrix(ytrain, pred)\n",
    "    TP = cm[1, 1]\n",
    "    TN = cm[0, 0]\n",
    "    FP = cm[0, 1]\n",
    "    FN = cm[1, 0]\n",
    "    TPR = TP / (TP + FN)\n",
    "    FPR = FP / (FP + TN)\n",
    "    ROC.loc[len(ROC.index)] = {'Threshold': threshold ,'TP': TP ,'TN': TN ,'FP': FP,'FN': FN,'TPR': TPR,'FPR': FPR}"
   ]
  },
  {
   "cell_type": "code",
   "execution_count": 618,
   "id": "62e9795f",
   "metadata": {},
   "outputs": [
    {
     "data": {
      "text/html": [
       "<div>\n",
       "<style scoped>\n",
       "    .dataframe tbody tr th:only-of-type {\n",
       "        vertical-align: middle;\n",
       "    }\n",
       "\n",
       "    .dataframe tbody tr th {\n",
       "        vertical-align: top;\n",
       "    }\n",
       "\n",
       "    .dataframe thead th {\n",
       "        text-align: right;\n",
       "    }\n",
       "</style>\n",
       "<table border=\"1\" class=\"dataframe\">\n",
       "  <thead>\n",
       "    <tr style=\"text-align: right;\">\n",
       "      <th></th>\n",
       "      <th>Threshold</th>\n",
       "      <th>TP</th>\n",
       "      <th>TN</th>\n",
       "      <th>FP</th>\n",
       "      <th>FN</th>\n",
       "      <th>TPR</th>\n",
       "      <th>FPR</th>\n",
       "    </tr>\n",
       "  </thead>\n",
       "  <tbody>\n",
       "    <tr>\n",
       "      <th>0</th>\n",
       "      <td>0.0</td>\n",
       "      <td>11016</td>\n",
       "      <td>0</td>\n",
       "      <td>10992</td>\n",
       "      <td>0</td>\n",
       "      <td>1.000000</td>\n",
       "      <td>1.000000</td>\n",
       "    </tr>\n",
       "    <tr>\n",
       "      <th>1</th>\n",
       "      <td>0.1</td>\n",
       "      <td>10964</td>\n",
       "      <td>5145</td>\n",
       "      <td>5847</td>\n",
       "      <td>52</td>\n",
       "      <td>0.995280</td>\n",
       "      <td>0.531932</td>\n",
       "    </tr>\n",
       "    <tr>\n",
       "      <th>2</th>\n",
       "      <td>0.2</td>\n",
       "      <td>10775</td>\n",
       "      <td>6496</td>\n",
       "      <td>4496</td>\n",
       "      <td>241</td>\n",
       "      <td>0.978123</td>\n",
       "      <td>0.409025</td>\n",
       "    </tr>\n",
       "    <tr>\n",
       "      <th>3</th>\n",
       "      <td>0.3</td>\n",
       "      <td>10465</td>\n",
       "      <td>7417</td>\n",
       "      <td>3575</td>\n",
       "      <td>551</td>\n",
       "      <td>0.949982</td>\n",
       "      <td>0.325237</td>\n",
       "    </tr>\n",
       "    <tr>\n",
       "      <th>4</th>\n",
       "      <td>0.4</td>\n",
       "      <td>9976</td>\n",
       "      <td>8206</td>\n",
       "      <td>2786</td>\n",
       "      <td>1040</td>\n",
       "      <td>0.905592</td>\n",
       "      <td>0.253457</td>\n",
       "    </tr>\n",
       "    <tr>\n",
       "      <th>5</th>\n",
       "      <td>0.5</td>\n",
       "      <td>9352</td>\n",
       "      <td>8945</td>\n",
       "      <td>2047</td>\n",
       "      <td>1664</td>\n",
       "      <td>0.848947</td>\n",
       "      <td>0.186226</td>\n",
       "    </tr>\n",
       "    <tr>\n",
       "      <th>6</th>\n",
       "      <td>0.6</td>\n",
       "      <td>8619</td>\n",
       "      <td>9526</td>\n",
       "      <td>1466</td>\n",
       "      <td>2397</td>\n",
       "      <td>0.782407</td>\n",
       "      <td>0.133370</td>\n",
       "    </tr>\n",
       "    <tr>\n",
       "      <th>7</th>\n",
       "      <td>0.7</td>\n",
       "      <td>7671</td>\n",
       "      <td>9932</td>\n",
       "      <td>1060</td>\n",
       "      <td>3345</td>\n",
       "      <td>0.696351</td>\n",
       "      <td>0.096434</td>\n",
       "    </tr>\n",
       "    <tr>\n",
       "      <th>8</th>\n",
       "      <td>0.8</td>\n",
       "      <td>6307</td>\n",
       "      <td>10355</td>\n",
       "      <td>637</td>\n",
       "      <td>4709</td>\n",
       "      <td>0.572531</td>\n",
       "      <td>0.057951</td>\n",
       "    </tr>\n",
       "    <tr>\n",
       "      <th>9</th>\n",
       "      <td>0.9</td>\n",
       "      <td>3837</td>\n",
       "      <td>10795</td>\n",
       "      <td>197</td>\n",
       "      <td>7179</td>\n",
       "      <td>0.348312</td>\n",
       "      <td>0.017922</td>\n",
       "    </tr>\n",
       "    <tr>\n",
       "      <th>10</th>\n",
       "      <td>1.0</td>\n",
       "      <td>0</td>\n",
       "      <td>10992</td>\n",
       "      <td>0</td>\n",
       "      <td>11016</td>\n",
       "      <td>0.000000</td>\n",
       "      <td>0.000000</td>\n",
       "    </tr>\n",
       "  </tbody>\n",
       "</table>\n",
       "</div>"
      ],
      "text/plain": [
       "    Threshold     TP     TN     FP     FN       TPR       FPR\n",
       "0         0.0  11016      0  10992      0  1.000000  1.000000\n",
       "1         0.1  10964   5145   5847     52  0.995280  0.531932\n",
       "2         0.2  10775   6496   4496    241  0.978123  0.409025\n",
       "3         0.3  10465   7417   3575    551  0.949982  0.325237\n",
       "4         0.4   9976   8206   2786   1040  0.905592  0.253457\n",
       "5         0.5   9352   8945   2047   1664  0.848947  0.186226\n",
       "6         0.6   8619   9526   1466   2397  0.782407  0.133370\n",
       "7         0.7   7671   9932   1060   3345  0.696351  0.096434\n",
       "8         0.8   6307  10355    637   4709  0.572531  0.057951\n",
       "9         0.9   3837  10795    197   7179  0.348312  0.017922\n",
       "10        1.0      0  10992      0  11016  0.000000  0.000000"
      ]
     },
     "execution_count": 618,
     "metadata": {},
     "output_type": "execute_result"
    }
   ],
   "source": [
    "ROC"
   ]
  },
  {
   "cell_type": "code",
   "execution_count": 619,
   "id": "019be33e",
   "metadata": {},
   "outputs": [
    {
     "data": {
      "text/plain": [
       "0.9147948276768793"
      ]
     },
     "execution_count": 619,
     "metadata": {},
     "output_type": "execute_result"
    }
   ],
   "source": [
    "auc = roc_auc_score(ytrain, xtrain.probability)\n",
    "auc"
   ]
  },
  {
   "cell_type": "code",
   "execution_count": 620,
   "id": "a2b47daa",
   "metadata": {},
   "outputs": [
    {
     "data": {
      "image/png": "[encoded data removed]",
      "text/plain": [
       "<Figure size 640x480 with 1 Axes>"
      ]
     },
     "metadata": {},
     "output_type": "display_data"
    }
   ],
   "source": [
    "plt.plot(ROC['FPR'], ROC['TPR'], label=f'AUC={auc:.2f}')\n",
    "plt.xlabel('False Positive Rate')\n",
    "plt.ylabel('True Positive Rate')\n",
    "plt.title('ROC Curve')\n",
    "plt.legend()\n",
    "plt.show()"
   ]
  },
  {
   "cell_type": "code",
   "execution_count": null,
   "id": "04b74a61",
   "metadata": {},
   "outputs": [],
   "source": []
  }
 ],
 "metadata": {
  "kernelspec": {
   "display_name": "Python 3 (ipykernel)",
   "language": "python",
   "name": "python3"
  },
  "language_info": {
   "codemirror_mode": {
    "name": "ipython",
    "version": 3
   },
   "file_extension": ".py",
   "mimetype": "text/x-python",
   "name": "python",
   "nbconvert_exporter": "python",
   "pygments_lexer": "ipython3",
   "version": "3.11.3"
  }
 },
 "nbformat": 4,
 "nbformat_minor": 5
}
